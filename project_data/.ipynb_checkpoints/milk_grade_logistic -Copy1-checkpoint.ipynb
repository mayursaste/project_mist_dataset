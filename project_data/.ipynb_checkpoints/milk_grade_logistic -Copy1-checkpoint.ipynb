{
 "cells": [
  {
   "cell_type": "markdown",
   "id": "4a11dcf8",
   "metadata": {},
   "source": [
    "# 1. Problem statement:- "
   ]
  },
  {
   "cell_type": "markdown",
   "id": "d01c0194",
   "metadata": {},
   "source": [
    "### In this project we will be predicting the Grade of milk  based on  pH value, Temprature, Taste,Odor, Fat, Turbidity, & Colour."
   ]
  },
  {
   "cell_type": "markdown",
   "id": "054734ac",
   "metadata": {},
   "source": [
    "# 2.Libraries"
   ]
  },
  {
   "cell_type": "code",
   "execution_count": 2,
   "id": "3e0fff05",
   "metadata": {},
   "outputs": [],
   "source": [
    "import pandas as pd\n",
    "import numpy as np\n",
    "\n",
    "from sklearn.linear_model import LogisticRegression\n",
    "from sklearn.model_selection import train_test_split\n",
    "\n",
    "from sklearn.metrics import accuracy_score, confusion_matrix, classification_report\n",
    "from sklearn.metrics import plot_confusion_matrix,roc_curve\n",
    "from sklearn.metrics import precision_score,recall_score, f1_score\n",
    "from sklearn.metrics import plot_confusion_matrix,roc_curve, multilabel_confusion_matrix\n",
    "from sklearn.preprocessing import StandardScaler\n",
    "\n",
    "import matplotlib.pyplot as plt\n",
    "import seaborn as sns\n",
    "\n",
    "import warnings\n",
    "warnings.filterwarnings('ignore')"
   ]
  },
  {
   "cell_type": "markdown",
   "id": "d94d4a9c",
   "metadata": {},
   "source": [
    "# 3.Data Gathering"
   ]
  },
  {
   "cell_type": "code",
   "execution_count": 9,
   "id": "41c25478",
   "metadata": {},
   "outputs": [
    {
     "data": {
      "text/html": [
       "<div>\n",
       "<style scoped>\n",
       "    .dataframe tbody tr th:only-of-type {\n",
       "        vertical-align: middle;\n",
       "    }\n",
       "\n",
       "    .dataframe tbody tr th {\n",
       "        vertical-align: top;\n",
       "    }\n",
       "\n",
       "    .dataframe thead th {\n",
       "        text-align: right;\n",
       "    }\n",
       "</style>\n",
       "<table border=\"1\" class=\"dataframe\">\n",
       "  <thead>\n",
       "    <tr style=\"text-align: right;\">\n",
       "      <th></th>\n",
       "      <th>pH</th>\n",
       "      <th>Temprature</th>\n",
       "      <th>Taste</th>\n",
       "      <th>Odor</th>\n",
       "      <th>Fat</th>\n",
       "      <th>Turbidity</th>\n",
       "      <th>Colour</th>\n",
       "      <th>Grade</th>\n",
       "    </tr>\n",
       "  </thead>\n",
       "  <tbody>\n",
       "    <tr>\n",
       "      <th>0</th>\n",
       "      <td>6.6</td>\n",
       "      <td>35</td>\n",
       "      <td>1</td>\n",
       "      <td>0</td>\n",
       "      <td>1</td>\n",
       "      <td>0</td>\n",
       "      <td>254</td>\n",
       "      <td>high</td>\n",
       "    </tr>\n",
       "    <tr>\n",
       "      <th>1</th>\n",
       "      <td>6.6</td>\n",
       "      <td>36</td>\n",
       "      <td>0</td>\n",
       "      <td>1</td>\n",
       "      <td>0</td>\n",
       "      <td>1</td>\n",
       "      <td>253</td>\n",
       "      <td>high</td>\n",
       "    </tr>\n",
       "    <tr>\n",
       "      <th>2</th>\n",
       "      <td>8.5</td>\n",
       "      <td>70</td>\n",
       "      <td>1</td>\n",
       "      <td>1</td>\n",
       "      <td>1</td>\n",
       "      <td>1</td>\n",
       "      <td>246</td>\n",
       "      <td>low</td>\n",
       "    </tr>\n",
       "    <tr>\n",
       "      <th>3</th>\n",
       "      <td>9.5</td>\n",
       "      <td>34</td>\n",
       "      <td>1</td>\n",
       "      <td>1</td>\n",
       "      <td>0</td>\n",
       "      <td>1</td>\n",
       "      <td>255</td>\n",
       "      <td>low</td>\n",
       "    </tr>\n",
       "    <tr>\n",
       "      <th>4</th>\n",
       "      <td>6.6</td>\n",
       "      <td>37</td>\n",
       "      <td>0</td>\n",
       "      <td>0</td>\n",
       "      <td>0</td>\n",
       "      <td>0</td>\n",
       "      <td>255</td>\n",
       "      <td>medium</td>\n",
       "    </tr>\n",
       "    <tr>\n",
       "      <th>...</th>\n",
       "      <td>...</td>\n",
       "      <td>...</td>\n",
       "      <td>...</td>\n",
       "      <td>...</td>\n",
       "      <td>...</td>\n",
       "      <td>...</td>\n",
       "      <td>...</td>\n",
       "      <td>...</td>\n",
       "    </tr>\n",
       "    <tr>\n",
       "      <th>1054</th>\n",
       "      <td>6.7</td>\n",
       "      <td>45</td>\n",
       "      <td>1</td>\n",
       "      <td>1</td>\n",
       "      <td>0</td>\n",
       "      <td>0</td>\n",
       "      <td>247</td>\n",
       "      <td>medium</td>\n",
       "    </tr>\n",
       "    <tr>\n",
       "      <th>1055</th>\n",
       "      <td>6.7</td>\n",
       "      <td>38</td>\n",
       "      <td>1</td>\n",
       "      <td>0</td>\n",
       "      <td>1</td>\n",
       "      <td>0</td>\n",
       "      <td>255</td>\n",
       "      <td>high</td>\n",
       "    </tr>\n",
       "    <tr>\n",
       "      <th>1056</th>\n",
       "      <td>3.0</td>\n",
       "      <td>40</td>\n",
       "      <td>1</td>\n",
       "      <td>1</td>\n",
       "      <td>1</td>\n",
       "      <td>1</td>\n",
       "      <td>255</td>\n",
       "      <td>low</td>\n",
       "    </tr>\n",
       "    <tr>\n",
       "      <th>1057</th>\n",
       "      <td>6.8</td>\n",
       "      <td>43</td>\n",
       "      <td>1</td>\n",
       "      <td>0</td>\n",
       "      <td>1</td>\n",
       "      <td>0</td>\n",
       "      <td>250</td>\n",
       "      <td>high</td>\n",
       "    </tr>\n",
       "    <tr>\n",
       "      <th>1058</th>\n",
       "      <td>8.6</td>\n",
       "      <td>55</td>\n",
       "      <td>0</td>\n",
       "      <td>1</td>\n",
       "      <td>1</td>\n",
       "      <td>1</td>\n",
       "      <td>255</td>\n",
       "      <td>low</td>\n",
       "    </tr>\n",
       "  </tbody>\n",
       "</table>\n",
       "<p>1059 rows × 8 columns</p>\n",
       "</div>"
      ],
      "text/plain": [
       "       pH  Temprature  Taste  Odor  Fat   Turbidity  Colour   Grade\n",
       "0     6.6          35      1     0     1          0     254    high\n",
       "1     6.6          36      0     1     0          1     253    high\n",
       "2     8.5          70      1     1     1          1     246     low\n",
       "3     9.5          34      1     1     0          1     255     low\n",
       "4     6.6          37      0     0     0          0     255  medium\n",
       "...   ...         ...    ...   ...   ...        ...     ...     ...\n",
       "1054  6.7          45      1     1     0          0     247  medium\n",
       "1055  6.7          38      1     0     1          0     255    high\n",
       "1056  3.0          40      1     1     1          1     255     low\n",
       "1057  6.8          43      1     0     1          0     250    high\n",
       "1058  8.6          55      0     1     1          1     255     low\n",
       "\n",
       "[1059 rows x 8 columns]"
      ]
     },
     "execution_count": 9,
     "metadata": {},
     "output_type": "execute_result"
    }
   ],
   "source": [
    "df = pd.read_csv('milknew.csv')\n",
    "df"
   ]
  },
  {
   "cell_type": "markdown",
   "id": "028a56b0",
   "metadata": {},
   "source": [
    "# 4.Exploratory Data Analysis (EDA)"
   ]
  },
  {
   "cell_type": "code",
   "execution_count": 10,
   "id": "fe048439",
   "metadata": {},
   "outputs": [
    {
     "name": "stdout",
     "output_type": "stream",
     "text": [
      "<class 'pandas.core.frame.DataFrame'>\n",
      "RangeIndex: 1059 entries, 0 to 1058\n",
      "Data columns (total 8 columns):\n",
      " #   Column      Non-Null Count  Dtype  \n",
      "---  ------      --------------  -----  \n",
      " 0   pH          1059 non-null   float64\n",
      " 1   Temprature  1059 non-null   int64  \n",
      " 2   Taste       1059 non-null   int64  \n",
      " 3   Odor        1059 non-null   int64  \n",
      " 4   Fat         1059 non-null   int64  \n",
      " 5   Turbidity   1059 non-null   int64  \n",
      " 6   Colour      1059 non-null   int64  \n",
      " 7   Grade       1059 non-null   object \n",
      "dtypes: float64(1), int64(6), object(1)\n",
      "memory usage: 66.3+ KB\n"
     ]
    }
   ],
   "source": [
    "df.info()"
   ]
  },
  {
   "cell_type": "code",
   "execution_count": 11,
   "id": "455d9e32",
   "metadata": {},
   "outputs": [
    {
     "data": {
      "text/html": [
       "<div>\n",
       "<style scoped>\n",
       "    .dataframe tbody tr th:only-of-type {\n",
       "        vertical-align: middle;\n",
       "    }\n",
       "\n",
       "    .dataframe tbody tr th {\n",
       "        vertical-align: top;\n",
       "    }\n",
       "\n",
       "    .dataframe thead th {\n",
       "        text-align: right;\n",
       "    }\n",
       "</style>\n",
       "<table border=\"1\" class=\"dataframe\">\n",
       "  <thead>\n",
       "    <tr style=\"text-align: right;\">\n",
       "      <th></th>\n",
       "      <th>pH</th>\n",
       "      <th>Temprature</th>\n",
       "      <th>Taste</th>\n",
       "      <th>Odor</th>\n",
       "      <th>Fat</th>\n",
       "      <th>Turbidity</th>\n",
       "      <th>Colour</th>\n",
       "    </tr>\n",
       "  </thead>\n",
       "  <tbody>\n",
       "    <tr>\n",
       "      <th>count</th>\n",
       "      <td>1059.000000</td>\n",
       "      <td>1059.000000</td>\n",
       "      <td>1059.000000</td>\n",
       "      <td>1059.000000</td>\n",
       "      <td>1059.000000</td>\n",
       "      <td>1059.000000</td>\n",
       "      <td>1059.000000</td>\n",
       "    </tr>\n",
       "    <tr>\n",
       "      <th>mean</th>\n",
       "      <td>6.630123</td>\n",
       "      <td>44.226629</td>\n",
       "      <td>0.546742</td>\n",
       "      <td>0.432483</td>\n",
       "      <td>0.671388</td>\n",
       "      <td>0.491029</td>\n",
       "      <td>251.840415</td>\n",
       "    </tr>\n",
       "    <tr>\n",
       "      <th>std</th>\n",
       "      <td>1.399679</td>\n",
       "      <td>10.098364</td>\n",
       "      <td>0.498046</td>\n",
       "      <td>0.495655</td>\n",
       "      <td>0.469930</td>\n",
       "      <td>0.500156</td>\n",
       "      <td>4.307424</td>\n",
       "    </tr>\n",
       "    <tr>\n",
       "      <th>min</th>\n",
       "      <td>3.000000</td>\n",
       "      <td>34.000000</td>\n",
       "      <td>0.000000</td>\n",
       "      <td>0.000000</td>\n",
       "      <td>0.000000</td>\n",
       "      <td>0.000000</td>\n",
       "      <td>240.000000</td>\n",
       "    </tr>\n",
       "    <tr>\n",
       "      <th>25%</th>\n",
       "      <td>6.500000</td>\n",
       "      <td>38.000000</td>\n",
       "      <td>0.000000</td>\n",
       "      <td>0.000000</td>\n",
       "      <td>0.000000</td>\n",
       "      <td>0.000000</td>\n",
       "      <td>250.000000</td>\n",
       "    </tr>\n",
       "    <tr>\n",
       "      <th>50%</th>\n",
       "      <td>6.700000</td>\n",
       "      <td>41.000000</td>\n",
       "      <td>1.000000</td>\n",
       "      <td>0.000000</td>\n",
       "      <td>1.000000</td>\n",
       "      <td>0.000000</td>\n",
       "      <td>255.000000</td>\n",
       "    </tr>\n",
       "    <tr>\n",
       "      <th>75%</th>\n",
       "      <td>6.800000</td>\n",
       "      <td>45.000000</td>\n",
       "      <td>1.000000</td>\n",
       "      <td>1.000000</td>\n",
       "      <td>1.000000</td>\n",
       "      <td>1.000000</td>\n",
       "      <td>255.000000</td>\n",
       "    </tr>\n",
       "    <tr>\n",
       "      <th>max</th>\n",
       "      <td>9.500000</td>\n",
       "      <td>90.000000</td>\n",
       "      <td>1.000000</td>\n",
       "      <td>1.000000</td>\n",
       "      <td>1.000000</td>\n",
       "      <td>1.000000</td>\n",
       "      <td>255.000000</td>\n",
       "    </tr>\n",
       "  </tbody>\n",
       "</table>\n",
       "</div>"
      ],
      "text/plain": [
       "                pH   Temprature        Taste         Odor         Fat   \\\n",
       "count  1059.000000  1059.000000  1059.000000  1059.000000  1059.000000   \n",
       "mean      6.630123    44.226629     0.546742     0.432483     0.671388   \n",
       "std       1.399679    10.098364     0.498046     0.495655     0.469930   \n",
       "min       3.000000    34.000000     0.000000     0.000000     0.000000   \n",
       "25%       6.500000    38.000000     0.000000     0.000000     0.000000   \n",
       "50%       6.700000    41.000000     1.000000     0.000000     1.000000   \n",
       "75%       6.800000    45.000000     1.000000     1.000000     1.000000   \n",
       "max       9.500000    90.000000     1.000000     1.000000     1.000000   \n",
       "\n",
       "         Turbidity       Colour  \n",
       "count  1059.000000  1059.000000  \n",
       "mean      0.491029   251.840415  \n",
       "std       0.500156     4.307424  \n",
       "min       0.000000   240.000000  \n",
       "25%       0.000000   250.000000  \n",
       "50%       0.000000   255.000000  \n",
       "75%       1.000000   255.000000  \n",
       "max       1.000000   255.000000  "
      ]
     },
     "execution_count": 11,
     "metadata": {},
     "output_type": "execute_result"
    }
   ],
   "source": [
    "df.describe()"
   ]
  },
  {
   "cell_type": "code",
   "execution_count": 8,
   "id": "f98b5f67",
   "metadata": {},
   "outputs": [
    {
     "data": {
      "text/plain": [
       "low       429\n",
       "medium    374\n",
       "high      256\n",
       "Name: Grade, dtype: int64"
      ]
     },
     "execution_count": 8,
     "metadata": {},
     "output_type": "execute_result"
    }
   ],
   "source": [
    "df['Grade'].value_counts()"
   ]
  },
  {
   "cell_type": "markdown",
   "id": "a5bf8c1e",
   "metadata": {},
   "source": [
    "# 5.Feature Engineering"
   ]
  },
  {
   "cell_type": "code",
   "execution_count": null,
   "id": "dd72f81a",
   "metadata": {},
   "outputs": [],
   "source": [
    "## Outlier imputed by mean"
   ]
  },
  {
   "cell_type": "markdown",
   "id": "5001807f",
   "metadata": {},
   "source": [
    "### 5.1 pH"
   ]
  },
  {
   "cell_type": "code",
   "execution_count": 14,
   "id": "7d46b803",
   "metadata": {},
   "outputs": [
    {
     "data": {
      "text/plain": [
       "<AxesSubplot:xlabel='pH'>"
      ]
     },
     "execution_count": 14,
     "metadata": {},
     "output_type": "execute_result"
    },
    {
     "data": {
      "image/png": "[encoded data removed]",
      "text/plain": [
       "<Figure size 640x480 with 1 Axes>"
      ]
     },
     "metadata": {},
     "output_type": "display_data"
    }
   ],
   "source": [
    "sns.boxplot(x= df['pH'])"
   ]
  },
  {
   "cell_type": "code",
   "execution_count": 15,
   "id": "882c6fe9",
   "metadata": {},
   "outputs": [
    {
     "name": "stdout",
     "output_type": "stream",
     "text": [
      "Q1_pH : 6.5\n",
      "Q2_pH: 6.7\n",
      "Q3_pH : 6.8\n",
      "median_pH : 6.7\n",
      "upper_tail  : 7.25\n",
      "lower_tail  : 6.050000000000001\n"
     ]
    }
   ],
   "source": [
    "q1_pH= df['pH'].quantile(0.25)\n",
    "q2_pH= df['pH'].quantile(0.50)\n",
    "q3_pH= df['pH'].quantile(0.75)\n",
    "median_pH = df['pH'].median()\n",
    "print(\"Q1_pH :\", q1_pH)\n",
    "print(\"Q2_pH:\", q2_pH)\n",
    "print(\"Q3_pH :\", q3_pH)\n",
    "print(\"median_pH :\", median_pH)\n",
    "\n",
    "iqr_pH = q3_pH - q1_pH\n",
    "\n",
    "upper_tail_pH = q3_pH + 1.5*iqr_pH\n",
    "lower_tail_pH = q1_pH - 1.5*iqr_pH\n",
    "print(\"upper_tail  :\",upper_tail_pH)\n",
    "print(\"lower_tail  :\",lower_tail_pH)"
   ]
  },
  {
   "cell_type": "code",
   "execution_count": 18,
   "id": "515234ce",
   "metadata": {},
   "outputs": [
    {
     "data": {
      "text/plain": [
       "6.65720588235294"
      ]
     },
     "execution_count": 18,
     "metadata": {},
     "output_type": "execute_result"
    }
   ],
   "source": [
    "mean_pH = df.loc[(df['pH'] <= upper_tail_pH) &\n",
    "(df['pH'] >= lower_tail_pH),'pH'].mean()\n",
    "mean_pH"
   ]
  },
  {
   "cell_type": "code",
   "execution_count": 19,
   "id": "6f65995b",
   "metadata": {},
   "outputs": [],
   "source": [
    "df.loc[(df['pH'] > upper_tail_pH) |\n",
    "(df['pH'] < lower_tail_pH),'pH'] = mean_pH"
   ]
  },
  {
   "cell_type": "code",
   "execution_count": 20,
   "id": "57c16b4b",
   "metadata": {},
   "outputs": [
    {
     "data": {
      "text/plain": [
       "Series([], Name: pH, dtype: float64)"
      ]
     },
     "execution_count": 20,
     "metadata": {},
     "output_type": "execute_result"
    }
   ],
   "source": [
    "df.loc[(df['pH'] > upper_tail_pH) |\n",
    "(df['pH'] < lower_tail_pH),'pH']"
   ]
  },
  {
   "cell_type": "code",
   "execution_count": 21,
   "id": "eb599e8b",
   "metadata": {},
   "outputs": [
    {
     "data": {
      "text/plain": [
       "<AxesSubplot:xlabel='pH'>"
      ]
     },
     "execution_count": 21,
     "metadata": {},
     "output_type": "execute_result"
    },
    {
     "data": {
      "image/png": "[encoded data removed]",
      "text/plain": [
       "<Figure size 640x480 with 1 Axes>"
      ]
     },
     "metadata": {},
     "output_type": "display_data"
    }
   ],
   "source": [
    "sns.boxplot(x= df['pH'])"
   ]
  },
  {
   "cell_type": "markdown",
   "id": "3ad1217e",
   "metadata": {},
   "source": [
    "### 5.2 Temperature"
   ]
  },
  {
   "cell_type": "code",
   "execution_count": 23,
   "id": "f9cd597d",
   "metadata": {},
   "outputs": [
    {
     "data": {
      "text/plain": [
       "<AxesSubplot:xlabel='Temprature'>"
      ]
     },
     "execution_count": 23,
     "metadata": {},
     "output_type": "execute_result"
    },
    {
     "data": {
      "image/png": "[encoded data removed]",
      "text/plain": [
       "<Figure size 640x480 with 1 Axes>"
      ]
     },
     "metadata": {},
     "output_type": "display_data"
    }
   ],
   "source": [
    "sns.boxplot(x= df['Temprature'])"
   ]
  },
  {
   "cell_type": "code",
   "execution_count": 24,
   "id": "2353d7e8",
   "metadata": {},
   "outputs": [
    {
     "name": "stdout",
     "output_type": "stream",
     "text": [
      "Q1_Temprature : 38.0\n",
      "Q2_Temprature: 41.0\n",
      "Q3_Temprature : 45.0\n",
      "median_Temprature : 41.0\n",
      "upper_tail  : 55.5\n",
      "lower_tail  : 27.5\n"
     ]
    }
   ],
   "source": [
    "q1_Temprature= df['Temprature'].quantile(0.25)\n",
    "q2_Temprature= df['Temprature'].quantile(0.50)\n",
    "q3_Temprature= df['Temprature'].quantile(0.75)\n",
    "median_Temprature = df['Temprature'].median()\n",
    "print(\"Q1_Temprature :\", q1_Temprature)\n",
    "print(\"Q2_Temprature:\", q2_Temprature)\n",
    "print(\"Q3_Temprature :\", q3_Temprature)\n",
    "print(\"median_Temprature :\", median_Temprature)\n",
    "\n",
    "iqr_Temprature = q3_Temprature - q1_Temprature\n",
    "\n",
    "upper_tail_Temprature = q3_Temprature + 1.5*iqr_Temprature\n",
    "lower_tail_Temprature = q1_Temprature - 1.5*iqr_Temprature\n",
    "print(\"upper_tail  :\",upper_tail_Temprature)\n",
    "print(\"lower_tail  :\",lower_tail_Temprature)"
   ]
  },
  {
   "cell_type": "code",
   "execution_count": 25,
   "id": "9d966493",
   "metadata": {},
   "outputs": [
    {
     "data": {
      "text/plain": [
       "41.49790794979079"
      ]
     },
     "execution_count": 25,
     "metadata": {},
     "output_type": "execute_result"
    }
   ],
   "source": [
    "mean_Temprature = df.loc[(df['Temprature'] <= upper_tail_Temprature) &\n",
    "(df['Temprature'] >= lower_tail_Temprature),'Temprature'].mean()\n",
    "mean_Temprature"
   ]
  },
  {
   "cell_type": "code",
   "execution_count": 26,
   "id": "5577c61e",
   "metadata": {},
   "outputs": [],
   "source": [
    "df.loc[(df['Temprature'] > upper_tail_Temprature) |\n",
    "(df['Temprature'] < lower_tail_Temprature),'Temprature'] = mean_Temprature"
   ]
  },
  {
   "cell_type": "code",
   "execution_count": 27,
   "id": "8bb7110d",
   "metadata": {},
   "outputs": [
    {
     "data": {
      "text/plain": [
       "Series([], Name: Temprature, dtype: float64)"
      ]
     },
     "execution_count": 27,
     "metadata": {},
     "output_type": "execute_result"
    }
   ],
   "source": [
    "df.loc[(df['Temprature'] > upper_tail_Temprature) |\n",
    "(df['Temprature'] < lower_tail_Temprature),'Temprature']"
   ]
  },
  {
   "cell_type": "code",
   "execution_count": 28,
   "id": "f6d2d70b",
   "metadata": {},
   "outputs": [
    {
     "data": {
      "text/plain": [
       "<AxesSubplot:xlabel='Temprature'>"
      ]
     },
     "execution_count": 28,
     "metadata": {},
     "output_type": "execute_result"
    },
    {
     "data": {
      "image/png": "[encoded data removed]",
      "text/plain": [
       "<Figure size 640x480 with 1 Axes>"
      ]
     },
     "metadata": {},
     "output_type": "display_data"
    }
   ],
   "source": [
    "sns.boxplot(x= df['Temprature'])"
   ]
  },
  {
   "cell_type": "markdown",
   "id": "bac74128",
   "metadata": {},
   "source": [
    "### 5.3 Taste"
   ]
  },
  {
   "cell_type": "code",
   "execution_count": 31,
   "id": "88c1f9d4",
   "metadata": {},
   "outputs": [
    {
     "data": {
      "text/plain": [
       "<AxesSubplot:xlabel='Taste'>"
      ]
     },
     "execution_count": 31,
     "metadata": {},
     "output_type": "execute_result"
    },
    {
     "data": {
      "image/png": "[encoded data removed]",
      "text/plain": [
       "<Figure size 640x480 with 1 Axes>"
      ]
     },
     "metadata": {},
     "output_type": "display_data"
    }
   ],
   "source": [
    "sns.boxplot(x= df['Taste'])"
   ]
  },
  {
   "cell_type": "markdown",
   "id": "50690b13",
   "metadata": {},
   "source": [
    "## 5.4 Odor"
   ]
  },
  {
   "cell_type": "code",
   "execution_count": 32,
   "id": "a6fd5cb5",
   "metadata": {},
   "outputs": [
    {
     "data": {
      "text/plain": [
       "<AxesSubplot:xlabel='Odor'>"
      ]
     },
     "execution_count": 32,
     "metadata": {},
     "output_type": "execute_result"
    },
    {
     "data": {
      "image/png": "[encoded data removed]",
      "text/plain": [
       "<Figure size 640x480 with 1 Axes>"
      ]
     },
     "metadata": {},
     "output_type": "display_data"
    }
   ],
   "source": [
    "sns.boxplot(x= df['Odor'])"
   ]
  },
  {
   "cell_type": "markdown",
   "id": "9aacd9df",
   "metadata": {},
   "source": [
    "### 5.5 Fat"
   ]
  },
  {
   "cell_type": "code",
   "execution_count": 40,
   "id": "6a1dda95",
   "metadata": {},
   "outputs": [
    {
     "ename": "KeyError",
     "evalue": "'Fat'",
     "output_type": "error",
     "traceback": [
      "\u001b[1;31m---------------------------------------------------------------------------\u001b[0m",
      "\u001b[1;31mKeyError\u001b[0m                                  Traceback (most recent call last)",
      "File \u001b[1;32m~\\AppData\\Local\\Programs\\Python\\Python39\\lib\\site-packages\\pandas\\core\\indexes\\base.py:3621\u001b[0m, in \u001b[0;36mIndex.get_loc\u001b[1;34m(self, key, method, tolerance)\u001b[0m\n\u001b[0;32m   3620\u001b[0m \u001b[38;5;28;01mtry\u001b[39;00m:\n\u001b[1;32m-> 3621\u001b[0m     \u001b[38;5;28;01mreturn\u001b[39;00m \u001b[38;5;28;43mself\u001b[39;49m\u001b[38;5;241;43m.\u001b[39;49m\u001b[43m_engine\u001b[49m\u001b[38;5;241;43m.\u001b[39;49m\u001b[43mget_loc\u001b[49m\u001b[43m(\u001b[49m\u001b[43mcasted_key\u001b[49m\u001b[43m)\u001b[49m\n\u001b[0;32m   3622\u001b[0m \u001b[38;5;28;01mexcept\u001b[39;00m \u001b[38;5;167;01mKeyError\u001b[39;00m \u001b[38;5;28;01mas\u001b[39;00m err:\n",
      "File \u001b[1;32m~\\AppData\\Local\\Programs\\Python\\Python39\\lib\\site-packages\\pandas\\_libs\\index.pyx:136\u001b[0m, in \u001b[0;36mpandas._libs.index.IndexEngine.get_loc\u001b[1;34m()\u001b[0m\n",
      "File \u001b[1;32m~\\AppData\\Local\\Programs\\Python\\Python39\\lib\\site-packages\\pandas\\_libs\\index.pyx:163\u001b[0m, in \u001b[0;36mpandas._libs.index.IndexEngine.get_loc\u001b[1;34m()\u001b[0m\n",
      "File \u001b[1;32mpandas\\_libs\\hashtable_class_helper.pxi:5198\u001b[0m, in \u001b[0;36mpandas._libs.hashtable.PyObjectHashTable.get_item\u001b[1;34m()\u001b[0m\n",
      "File \u001b[1;32mpandas\\_libs\\hashtable_class_helper.pxi:5206\u001b[0m, in \u001b[0;36mpandas._libs.hashtable.PyObjectHashTable.get_item\u001b[1;34m()\u001b[0m\n",
      "\u001b[1;31mKeyError\u001b[0m: 'Fat'",
      "\nThe above exception was the direct cause of the following exception:\n",
      "\u001b[1;31mKeyError\u001b[0m                                  Traceback (most recent call last)",
      "Input \u001b[1;32mIn [40]\u001b[0m, in \u001b[0;36m<cell line: 1>\u001b[1;34m()\u001b[0m\n\u001b[1;32m----> 1\u001b[0m sns\u001b[38;5;241m.\u001b[39mboxplot(x\u001b[38;5;241m=\u001b[39m \u001b[43mdf\u001b[49m\u001b[43m[\u001b[49m\u001b[38;5;124;43m'\u001b[39;49m\u001b[38;5;124;43mFat\u001b[39;49m\u001b[38;5;124;43m'\u001b[39;49m\u001b[43m]\u001b[49m)\n",
      "File \u001b[1;32m~\\AppData\\Local\\Programs\\Python\\Python39\\lib\\site-packages\\pandas\\core\\frame.py:3505\u001b[0m, in \u001b[0;36mDataFrame.__getitem__\u001b[1;34m(self, key)\u001b[0m\n\u001b[0;32m   3503\u001b[0m \u001b[38;5;28;01mif\u001b[39;00m \u001b[38;5;28mself\u001b[39m\u001b[38;5;241m.\u001b[39mcolumns\u001b[38;5;241m.\u001b[39mnlevels \u001b[38;5;241m>\u001b[39m \u001b[38;5;241m1\u001b[39m:\n\u001b[0;32m   3504\u001b[0m     \u001b[38;5;28;01mreturn\u001b[39;00m \u001b[38;5;28mself\u001b[39m\u001b[38;5;241m.\u001b[39m_getitem_multilevel(key)\n\u001b[1;32m-> 3505\u001b[0m indexer \u001b[38;5;241m=\u001b[39m \u001b[38;5;28;43mself\u001b[39;49m\u001b[38;5;241;43m.\u001b[39;49m\u001b[43mcolumns\u001b[49m\u001b[38;5;241;43m.\u001b[39;49m\u001b[43mget_loc\u001b[49m\u001b[43m(\u001b[49m\u001b[43mkey\u001b[49m\u001b[43m)\u001b[49m\n\u001b[0;32m   3506\u001b[0m \u001b[38;5;28;01mif\u001b[39;00m is_integer(indexer):\n\u001b[0;32m   3507\u001b[0m     indexer \u001b[38;5;241m=\u001b[39m [indexer]\n",
      "File \u001b[1;32m~\\AppData\\Local\\Programs\\Python\\Python39\\lib\\site-packages\\pandas\\core\\indexes\\base.py:3623\u001b[0m, in \u001b[0;36mIndex.get_loc\u001b[1;34m(self, key, method, tolerance)\u001b[0m\n\u001b[0;32m   3621\u001b[0m     \u001b[38;5;28;01mreturn\u001b[39;00m \u001b[38;5;28mself\u001b[39m\u001b[38;5;241m.\u001b[39m_engine\u001b[38;5;241m.\u001b[39mget_loc(casted_key)\n\u001b[0;32m   3622\u001b[0m \u001b[38;5;28;01mexcept\u001b[39;00m \u001b[38;5;167;01mKeyError\u001b[39;00m \u001b[38;5;28;01mas\u001b[39;00m err:\n\u001b[1;32m-> 3623\u001b[0m     \u001b[38;5;28;01mraise\u001b[39;00m \u001b[38;5;167;01mKeyError\u001b[39;00m(key) \u001b[38;5;28;01mfrom\u001b[39;00m \u001b[38;5;21;01merr\u001b[39;00m\n\u001b[0;32m   3624\u001b[0m \u001b[38;5;28;01mexcept\u001b[39;00m \u001b[38;5;167;01mTypeError\u001b[39;00m:\n\u001b[0;32m   3625\u001b[0m     \u001b[38;5;66;03m# If we have a listlike key, _check_indexing_error will raise\u001b[39;00m\n\u001b[0;32m   3626\u001b[0m     \u001b[38;5;66;03m#  InvalidIndexError. Otherwise we fall through and re-raise\u001b[39;00m\n\u001b[0;32m   3627\u001b[0m     \u001b[38;5;66;03m#  the TypeError.\u001b[39;00m\n\u001b[0;32m   3628\u001b[0m     \u001b[38;5;28mself\u001b[39m\u001b[38;5;241m.\u001b[39m_check_indexing_error(key)\n",
      "\u001b[1;31mKeyError\u001b[0m: 'Fat'"
     ]
    }
   ],
   "source": [
    "sns.boxplot(x= df['Fat'])"
   ]
  },
  {
   "cell_type": "markdown",
   "id": "893cb7a4",
   "metadata": {},
   "source": [
    "### 5.6 Turbidity"
   ]
  },
  {
   "cell_type": "code",
   "execution_count": 37,
   "id": "73055f63",
   "metadata": {},
   "outputs": [
    {
     "data": {
      "text/plain": [
       "<AxesSubplot:xlabel='Turbidity'>"
      ]
     },
     "execution_count": 37,
     "metadata": {},
     "output_type": "execute_result"
    },
    {
     "data": {
      "image/png": "[encoded data removed]",
      "text/plain": [
       "<Figure size 640x480 with 1 Axes>"
      ]
     },
     "metadata": {},
     "output_type": "display_data"
    }
   ],
   "source": [
    "sns.boxplot(x= df['Turbidity'])"
   ]
  },
  {
   "cell_type": "markdown",
   "id": "ab6e111f",
   "metadata": {},
   "source": [
    "### 5.7 Colour"
   ]
  },
  {
   "cell_type": "code",
   "execution_count": 41,
   "id": "58ccce85",
   "metadata": {},
   "outputs": [
    {
     "data": {
      "text/plain": [
       "<AxesSubplot:xlabel='Colour'>"
      ]
     },
     "execution_count": 41,
     "metadata": {},
     "output_type": "execute_result"
    },
    {
     "data": {
      "image/png": "[encoded data removed]",
      "text/plain": [
       "<Figure size 640x480 with 1 Axes>"
      ]
     },
     "metadata": {},
     "output_type": "display_data"
    }
   ],
   "source": [
    "sns.boxplot(x= df['Colour'])"
   ]
  },
  {
   "cell_type": "code",
   "execution_count": 42,
   "id": "a4c050e3",
   "metadata": {},
   "outputs": [
    {
     "name": "stdout",
     "output_type": "stream",
     "text": [
      "Q1_Colour : 250.0\n",
      "Q2_Colour: 255.0\n",
      "Q3_Colour : 255.0\n",
      "median_Colour : 255.0\n",
      "upper_tail  : 262.5\n",
      "lower_tail  : 242.5\n"
     ]
    }
   ],
   "source": [
    "q1_Colour= df['Colour'].quantile(0.25)\n",
    "q2_Colour= df['Colour'].quantile(0.50)\n",
    "q3_Colour= df['Colour'].quantile(0.75)\n",
    "median_Colour = df['Colour'].median()\n",
    "print(\"Q1_Colour :\", q1_Colour)\n",
    "print(\"Q2_Colour:\", q2_Colour)\n",
    "print(\"Q3_Colour :\", q3_Colour)\n",
    "print(\"median_Colour :\", median_Colour)\n",
    "\n",
    "iqr_Colour = q3_Colour  - q1_Colour\n",
    "\n",
    "upper_tail_Colour = q3_Colour + 1.5*iqr_Colour\n",
    "lower_tail_Colour = q1_Colour - 1.5*iqr_Colour\n",
    "print(\"upper_tail  :\",upper_tail_Colour)\n",
    "print(\"lower_tail  :\",lower_tail_Colour)"
   ]
  },
  {
   "cell_type": "code",
   "execution_count": 43,
   "id": "08cd827e",
   "metadata": {},
   "outputs": [
    {
     "data": {
      "text/plain": [
       "252.20934761441092"
      ]
     },
     "execution_count": 43,
     "metadata": {},
     "output_type": "execute_result"
    }
   ],
   "source": [
    "mean_Colour = df.loc[(df['Colour'] <= upper_tail_Colour) &\n",
    "(df['Colour'] >= lower_tail_Colour),'Colour'].mean()\n",
    "mean_Colour"
   ]
  },
  {
   "cell_type": "code",
   "execution_count": 45,
   "id": "29d58465",
   "metadata": {},
   "outputs": [
    {
     "data": {
      "text/plain": [
       "<AxesSubplot:xlabel='Temprature'>"
      ]
     },
     "execution_count": 45,
     "metadata": {},
     "output_type": "execute_result"
    },
    {
     "data": {
      "image/png": "[encoded data removed]",
      "text/plain": [
       "<Figure size 640x480 with 1 Axes>"
      ]
     },
     "metadata": {},
     "output_type": "display_data"
    }
   ],
   "source": [
    "sns.boxplot(x= df['Temprature'])"
   ]
  },
  {
   "cell_type": "markdown",
   "id": "9839e357",
   "metadata": {},
   "source": [
    "#  Algorithm-1:- Logistic Regression "
   ]
  },
  {
   "cell_type": "markdown",
   "id": "910bdeaa",
   "metadata": {},
   "source": [
    "## 6 Train Test Split"
   ]
  },
  {
   "cell_type": "code",
   "execution_count": 48,
   "id": "84d772fa",
   "metadata": {},
   "outputs": [],
   "source": [
    "x = df.drop('Grade',axis = 1)\n",
    "y = df['Grade']\n",
    "\n",
    "x_train, x_test, y_train, y_test = train_test_split(x,y,test_size=0.25, random_state=11,stratify=y)"
   ]
  },
  {
   "cell_type": "code",
   "execution_count": 49,
   "id": "48646c47",
   "metadata": {},
   "outputs": [
    {
     "data": {
      "text/plain": [
       "low       322\n",
       "medium    280\n",
       "high      192\n",
       "Name: Grade, dtype: int64"
      ]
     },
     "execution_count": 49,
     "metadata": {},
     "output_type": "execute_result"
    }
   ],
   "source": [
    "y_train.value_counts()"
   ]
  },
  {
   "cell_type": "code",
   "execution_count": 50,
   "id": "19c04670",
   "metadata": {},
   "outputs": [
    {
     "data": {
      "text/plain": [
       "low       107\n",
       "medium     94\n",
       "high       64\n",
       "Name: Grade, dtype: int64"
      ]
     },
     "execution_count": 50,
     "metadata": {},
     "output_type": "execute_result"
    }
   ],
   "source": [
    "y_test.value_counts()"
   ]
  },
  {
   "cell_type": "markdown",
   "id": "0abc8146",
   "metadata": {},
   "source": [
    "## Model Training"
   ]
  },
  {
   "cell_type": "code",
   "execution_count": 51,
   "id": "18edffec",
   "metadata": {},
   "outputs": [
    {
     "data": {
      "text/html": [
       "<style>#sk-container-id-1 {color: black;background-color: white;}#sk-container-id-1 pre{padding: 0;}#sk-container-id-1 div.sk-toggleable {background-color: white;}#sk-container-id-1 label.sk-toggleable__label {cursor: pointer;display: block;width: 100%;margin-bottom: 0;padding: 0.3em;box-sizing: border-box;text-align: center;}#sk-container-id-1 label.sk-toggleable__label-arrow:before {content: \"▸\";float: left;margin-right: 0.25em;color: #696969;}#sk-container-id-1 label.sk-toggleable__label-arrow:hover:before {color: black;}#sk-container-id-1 div.sk-estimator:hover label.sk-toggleable__label-arrow:before {color: black;}#sk-container-id-1 div.sk-toggleable__content {max-height: 0;max-width: 0;overflow: hidden;text-align: left;background-color: #f0f8ff;}#sk-container-id-1 div.sk-toggleable__content pre {margin: 0.2em;color: black;border-radius: 0.25em;background-color: #f0f8ff;}#sk-container-id-1 input.sk-toggleable__control:checked~div.sk-toggleable__content {max-height: 200px;max-width: 100%;overflow: auto;}#sk-container-id-1 input.sk-toggleable__control:checked~label.sk-toggleable__label-arrow:before {content: \"▾\";}#sk-container-id-1 div.sk-estimator input.sk-toggleable__control:checked~label.sk-toggleable__label {background-color: #d4ebff;}#sk-container-id-1 div.sk-label input.sk-toggleable__control:checked~label.sk-toggleable__label {background-color: #d4ebff;}#sk-container-id-1 input.sk-hidden--visually {border: 0;clip: rect(1px 1px 1px 1px);clip: rect(1px, 1px, 1px, 1px);height: 1px;margin: -1px;overflow: hidden;padding: 0;position: absolute;width: 1px;}#sk-container-id-1 div.sk-estimator {font-family: monospace;background-color: #f0f8ff;border: 1px dotted black;border-radius: 0.25em;box-sizing: border-box;margin-bottom: 0.5em;}#sk-container-id-1 div.sk-estimator:hover {background-color: #d4ebff;}#sk-container-id-1 div.sk-parallel-item::after {content: \"\";width: 100%;border-bottom: 1px solid gray;flex-grow: 1;}#sk-container-id-1 div.sk-label:hover label.sk-toggleable__label {background-color: #d4ebff;}#sk-container-id-1 div.sk-serial::before {content: \"\";position: absolute;border-left: 1px solid gray;box-sizing: border-box;top: 0;bottom: 0;left: 50%;z-index: 0;}#sk-container-id-1 div.sk-serial {display: flex;flex-direction: column;align-items: center;background-color: white;padding-right: 0.2em;padding-left: 0.2em;position: relative;}#sk-container-id-1 div.sk-item {position: relative;z-index: 1;}#sk-container-id-1 div.sk-parallel {display: flex;align-items: stretch;justify-content: center;background-color: white;position: relative;}#sk-container-id-1 div.sk-item::before, #sk-container-id-1 div.sk-parallel-item::before {content: \"\";position: absolute;border-left: 1px solid gray;box-sizing: border-box;top: 0;bottom: 0;left: 50%;z-index: -1;}#sk-container-id-1 div.sk-parallel-item {display: flex;flex-direction: column;z-index: 1;position: relative;background-color: white;}#sk-container-id-1 div.sk-parallel-item:first-child::after {align-self: flex-end;width: 50%;}#sk-container-id-1 div.sk-parallel-item:last-child::after {align-self: flex-start;width: 50%;}#sk-container-id-1 div.sk-parallel-item:only-child::after {width: 0;}#sk-container-id-1 div.sk-dashed-wrapped {border: 1px dashed gray;margin: 0 0.4em 0.5em 0.4em;box-sizing: border-box;padding-bottom: 0.4em;background-color: white;}#sk-container-id-1 div.sk-label label {font-family: monospace;font-weight: bold;display: inline-block;line-height: 1.2em;}#sk-container-id-1 div.sk-label-container {text-align: center;}#sk-container-id-1 div.sk-container {/* jupyter's `normalize.less` sets `[hidden] { display: none; }` but bootstrap.min.css set `[hidden] { display: none !important; }` so we also need the `!important` here to be able to override the default hidden behavior on the sphinx rendered scikit-learn.org. See: https://github.com/scikit-learn/scikit-learn/issues/21755 */display: inline-block !important;position: relative;}#sk-container-id-1 div.sk-text-repr-fallback {display: none;}</style><div id=\"sk-container-id-1\" class=\"sk-top-container\"><div class=\"sk-text-repr-fallback\"><pre>LogisticRegression(multi_class=&#x27;ovr&#x27;)</pre><b>In a Jupyter environment, please rerun this cell to show the HTML representation or trust the notebook. <br />On GitHub, the HTML representation is unable to render, please try loading this page with nbviewer.org.</b></div><div class=\"sk-container\" hidden><div class=\"sk-item\"><div class=\"sk-estimator sk-toggleable\"><input class=\"sk-toggleable__control sk-hidden--visually\" id=\"sk-estimator-id-1\" type=\"checkbox\" checked><label for=\"sk-estimator-id-1\" class=\"sk-toggleable__label sk-toggleable__label-arrow\">LogisticRegression</label><div class=\"sk-toggleable__content\"><pre>LogisticRegression(multi_class=&#x27;ovr&#x27;)</pre></div></div></div></div></div>"
      ],
      "text/plain": [
       "LogisticRegression(multi_class='ovr')"
      ]
     },
     "execution_count": 51,
     "metadata": {},
     "output_type": "execute_result"
    }
   ],
   "source": [
    "logistic_model = LogisticRegression(multi_class= 'ovr')\n",
    "logistic_model.fit(x_train, y_train)"
   ]
  },
  {
   "cell_type": "code",
   "execution_count": 52,
   "id": "2f31a6f5",
   "metadata": {},
   "outputs": [
    {
     "data": {
      "text/plain": [
       "<sklearn.metrics._plot.confusion_matrix.ConfusionMatrixDisplay at 0x1b8a2b01e20>"
      ]
     },
     "execution_count": 52,
     "metadata": {},
     "output_type": "execute_result"
    },
    {
     "data": {
      "image/png": "[encoded data removed]",
      "text/plain": [
       "<Figure size 640x480 with 2 Axes>"
      ]
     },
     "metadata": {},
     "output_type": "display_data"
    }
   ],
   "source": [
    "plot_confusion_matrix(logistic_model,x_train, y_train)"
   ]
  },
  {
   "cell_type": "code",
   "execution_count": 53,
   "id": "ec9ce6b8",
   "metadata": {},
   "outputs": [
    {
     "data": {
      "text/plain": [
       "<sklearn.metrics._plot.confusion_matrix.ConfusionMatrixDisplay at 0x1b8bda354c0>"
      ]
     },
     "execution_count": 53,
     "metadata": {},
     "output_type": "execute_result"
    },
    {
     "data": {
      "image/png": "[encoded data removed]",
      "text/plain": [
       "<Figure size 640x480 with 2 Axes>"
      ]
     },
     "metadata": {},
     "output_type": "display_data"
    }
   ],
   "source": [
    "plot_confusion_matrix(logistic_model,x_test, y_test)"
   ]
  },
  {
   "cell_type": "code",
   "execution_count": 54,
   "id": "7187499a",
   "metadata": {},
   "outputs": [
    {
     "data": {
      "text/plain": [
       "0.6246851385390428"
      ]
     },
     "execution_count": 54,
     "metadata": {},
     "output_type": "execute_result"
    }
   ],
   "source": [
    "logistic_model.score(x_train, y_train)"
   ]
  },
  {
   "cell_type": "code",
   "execution_count": 55,
   "id": "edb308e1",
   "metadata": {},
   "outputs": [
    {
     "data": {
      "text/plain": [
       "0.6754716981132075"
      ]
     },
     "execution_count": 55,
     "metadata": {},
     "output_type": "execute_result"
    }
   ],
   "source": [
    "logistic_model.score(x_test, y_test)"
   ]
  },
  {
   "cell_type": "markdown",
   "id": "517f0af1",
   "metadata": {},
   "source": [
    "## Model Evaluation"
   ]
  },
  {
   "cell_type": "code",
   "execution_count": 56,
   "id": "756e40e7",
   "metadata": {},
   "outputs": [
    {
     "name": "stdout",
     "output_type": "stream",
     "text": [
      "Confusion Matrix :\n",
      " [[30 20 14]\n",
      " [21 63 23]\n",
      " [ 3  5 86]]\n",
      "****************************************************************************************\n",
      "MultiLabel Confusion Matrix :\n",
      " [[[177  24]\n",
      "  [ 34  30]]\n",
      "\n",
      " [[133  25]\n",
      "  [ 44  63]]\n",
      "\n",
      " [[134  37]\n",
      "  [  8  86]]]\n",
      "****************************************************************************************\n",
      "Accuracy : 0.6754716981132075\n",
      "****************************************************************************************\n",
      "Classification Report :\n",
      "               precision    recall  f1-score   support\n",
      "\n",
      "        high       0.56      0.47      0.51        64\n",
      "         low       0.72      0.59      0.65       107\n",
      "      medium       0.70      0.91      0.79        94\n",
      "\n",
      "    accuracy                           0.68       265\n",
      "   macro avg       0.66      0.66      0.65       265\n",
      "weighted avg       0.67      0.68      0.66       265\n",
      "\n"
     ]
    }
   ],
   "source": [
    "y_pred = logistic_model.predict(x_test)\n",
    "\n",
    "cnf_matrix = confusion_matrix(y_test, y_pred)\n",
    "print(\"Confusion Matrix :\\n\",cnf_matrix)\n",
    "\n",
    "print(\"*\"*88)\n",
    "\n",
    "multilabel_cnf_matrix = multilabel_confusion_matrix(y_test, y_pred)\n",
    "print(\"MultiLabel Confusion Matrix :\\n\",multilabel_cnf_matrix)\n",
    "print(\"*\"*88)\n",
    "\n",
    "accuracy = accuracy_score(y_test, y_pred)\n",
    "print(\"Accuracy :\",accuracy)\n",
    "print(\"*\"*88)\n",
    "\n",
    "clf_report = classification_report(y_test, y_pred)\n",
    "print(\"Classification Report :\\n\",clf_report)"
   ]
  },
  {
   "cell_type": "code",
   "execution_count": 57,
   "id": "93368866",
   "metadata": {},
   "outputs": [
    {
     "name": "stdout",
     "output_type": "stream",
     "text": [
      "Confusion Matrix :\n",
      " [[ 82  70  40]\n",
      " [ 70 176  76]\n",
      " [ 16  26 238]]\n",
      "****************************************************************************************\n",
      "MultiLabel Confusion Matrix :\n",
      " [[[516  86]\n",
      "  [110  82]]\n",
      "\n",
      " [[376  96]\n",
      "  [146 176]]\n",
      "\n",
      " [[398 116]\n",
      "  [ 42 238]]]\n",
      "****************************************************************************************\n",
      "Accuracy : 0.6246851385390428\n",
      "****************************************************************************************\n",
      "Classification Report :\n",
      "               precision    recall  f1-score   support\n",
      "\n",
      "        high       0.49      0.43      0.46       192\n",
      "         low       0.65      0.55      0.59       322\n",
      "      medium       0.67      0.85      0.75       280\n",
      "\n",
      "    accuracy                           0.62       794\n",
      "   macro avg       0.60      0.61      0.60       794\n",
      "weighted avg       0.62      0.62      0.62       794\n",
      "\n"
     ]
    }
   ],
   "source": [
    "# Training Data Evaluation\n",
    "y_pred_train = logistic_model.predict(x_train)\n",
    "\n",
    "cnf_matrix = confusion_matrix(y_train, y_pred_train)\n",
    "print(\"Confusion Matrix :\\n\",cnf_matrix)\n",
    "\n",
    "print(\"*\"*88)\n",
    "\n",
    "multilabel_cnf_matrix = multilabel_confusion_matrix(y_train, y_pred_train)\n",
    "print(\"MultiLabel Confusion Matrix :\\n\",multilabel_cnf_matrix)\n",
    "print(\"*\"*88)\n",
    "\n",
    "accuracy = accuracy_score(y_train, y_pred_train)\n",
    "print(\"Accuracy :\",accuracy)\n",
    "print(\"*\"*88)\n",
    "\n",
    "clf_report = classification_report(y_train, y_pred_train)\n",
    "print(\"Classification Report :\\n\",clf_report)"
   ]
  },
  {
   "cell_type": "code",
   "execution_count": null,
   "id": "a16e0b39",
   "metadata": {},
   "outputs": [],
   "source": [
    "## Outlier imputed by median"
   ]
  },
  {
   "cell_type": "code",
   "execution_count": 59,
   "id": "1a33f6a0",
   "metadata": {},
   "outputs": [
    {
     "data": {
      "text/plain": [
       "6.65720588235294"
      ]
     },
     "execution_count": 59,
     "metadata": {},
     "output_type": "execute_result"
    }
   ],
   "source": [
    "mean_pH = df.loc[(df['pH'] <= upper_tail_pH) &\n",
    "(df['pH'] >= lower_tail_pH),'pH'].mean()\n",
    "mean_pH"
   ]
  },
  {
   "cell_type": "code",
   "execution_count": null,
   "id": "497e6efa",
   "metadata": {},
   "outputs": [],
   "source": []
  }
 ],
 "metadata": {
  "kernelspec": {
   "display_name": "Python 3 (ipykernel)",
   "language": "python",
   "name": "python3"
  },
  "language_info": {
   "codemirror_mode": {
    "name": "ipython",
    "version": 3
   },
   "file_extension": ".py",
   "mimetype": "text/x-python",
   "name": "python",
   "nbconvert_exporter": "python",
   "pygments_lexer": "ipython3",
   "version": "3.9.13"
  }
 },
 "nbformat": 4,
 "nbformat_minor": 5
}
